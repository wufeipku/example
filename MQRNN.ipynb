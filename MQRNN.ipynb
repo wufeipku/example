{
 "cells": [
  {
   "cell_type": "code",
   "execution_count": 1,
   "metadata": {
    "ExecuteTime": {
     "end_time": "2024-02-18T09:16:20.157727Z",
     "start_time": "2024-02-18T09:16:14.625279Z"
    },
    "execution": {
     "iopub.execute_input": "2023-01-10T06:54:29.893743Z",
     "iopub.status.busy": "2023-01-10T06:54:29.893322Z",
     "iopub.status.idle": "2023-01-10T06:54:30.618207Z",
     "shell.execute_reply": "2023-01-10T06:54:30.617115Z",
     "shell.execute_reply.started": "2023-01-10T06:54:29.893660Z"
    }
   },
   "outputs": [],
   "source": [
    "import os\n",
    "import pandas as pd\n",
    "import numpy as np\n",
    "from tqdm import trange, tqdm\n",
    "\n",
    "from io import BytesIO\n",
    "from urllib.request import urlopen\n",
    "from zipfile import ZipFile\n",
    "\n",
    "from pandas import read_csv\n",
    "from scipy import stats"
   ]
  },
  {
   "cell_type": "code",
   "execution_count": 2,
   "metadata": {
    "ExecuteTime": {
     "end_time": "2024-02-18T09:16:26.599029Z",
     "start_time": "2024-02-18T09:16:26.577096Z"
    },
    "execution": {
     "iopub.execute_input": "2023-01-10T06:54:30.774640Z",
     "iopub.status.busy": "2023-01-10T06:54:30.773982Z",
     "iopub.status.idle": "2023-01-10T06:54:38.642682Z",
     "shell.execute_reply": "2023-01-10T06:54:38.641667Z",
     "shell.execute_reply.started": "2023-01-10T06:54:30.774594Z"
    }
   },
   "outputs": [],
   "source": [
    "name = 'LD2011_2014.txt'\n",
    "save_name = 'elect'\n",
    "num_covariates = 3\n",
    "train_start = '2011-01-01 00:00:00'\n",
    "train_end = '2014-08-31 23:00:00'\n",
    "test_start = '2014-08-24 00:00:00' #need additional 7 days as given info\n",
    "test_end = '2014-09-07 23:00:00'\n",
    "\n",
    "save_path = os.path.join('data', save_name)\n",
    "if not os.path.exists(save_path):\n",
    "    os.makedirs(save_path)\n",
    "csv_path = os.path.join(save_path, name)\n",
    "if not os.path.exists(csv_path):\n",
    "    zipurl = 'https://archive.ics.uci.edu/ml/machine-learning-databases/00321/LD2011_2014.txt.zip'\n",
    "    with urlopen(zipurl) as zipresp:\n",
    "        with ZipFile(BytesIO(zipresp.read())) as zfile:\n",
    "            zfile.extractall(save_path)"
   ]
  },
  {
   "cell_type": "code",
   "execution_count": 10,
   "metadata": {
    "ExecuteTime": {
     "end_time": "2024-02-19T01:42:32.249456Z",
     "start_time": "2024-02-19T01:42:23.750133Z"
    }
   },
   "outputs": [
    {
     "data": {
      "text/html": [
       "<div>\n",
       "<style scoped>\n",
       "    .dataframe tbody tr th:only-of-type {\n",
       "        vertical-align: middle;\n",
       "    }\n",
       "\n",
       "    .dataframe tbody tr th {\n",
       "        vertical-align: top;\n",
       "    }\n",
       "\n",
       "    .dataframe thead th {\n",
       "        text-align: right;\n",
       "    }\n",
       "</style>\n",
       "<table border=\"1\" class=\"dataframe\">\n",
       "  <thead>\n",
       "    <tr style=\"text-align: right;\">\n",
       "      <th></th>\n",
       "      <th>MT_001</th>\n",
       "      <th>MT_002</th>\n",
       "      <th>MT_003</th>\n",
       "      <th>MT_004</th>\n",
       "      <th>MT_005</th>\n",
       "      <th>MT_006</th>\n",
       "      <th>MT_007</th>\n",
       "      <th>MT_008</th>\n",
       "      <th>MT_009</th>\n",
       "      <th>MT_010</th>\n",
       "      <th>...</th>\n",
       "      <th>MT_361</th>\n",
       "      <th>MT_362</th>\n",
       "      <th>MT_363</th>\n",
       "      <th>MT_364</th>\n",
       "      <th>MT_365</th>\n",
       "      <th>MT_366</th>\n",
       "      <th>MT_367</th>\n",
       "      <th>MT_368</th>\n",
       "      <th>MT_369</th>\n",
       "      <th>MT_370</th>\n",
       "    </tr>\n",
       "  </thead>\n",
       "  <tbody>\n",
       "    <tr>\n",
       "      <th>2011-01-01 00:15:00</th>\n",
       "      <td>0.0</td>\n",
       "      <td>0.0</td>\n",
       "      <td>0.0</td>\n",
       "      <td>0.0</td>\n",
       "      <td>0.0</td>\n",
       "      <td>0.0</td>\n",
       "      <td>0.0</td>\n",
       "      <td>0.0</td>\n",
       "      <td>0.0</td>\n",
       "      <td>0.0</td>\n",
       "      <td>...</td>\n",
       "      <td>0.0</td>\n",
       "      <td>0.0</td>\n",
       "      <td>0.0</td>\n",
       "      <td>0.0</td>\n",
       "      <td>0.0</td>\n",
       "      <td>0.0</td>\n",
       "      <td>0.0</td>\n",
       "      <td>0.0</td>\n",
       "      <td>0.0</td>\n",
       "      <td>0.0</td>\n",
       "    </tr>\n",
       "    <tr>\n",
       "      <th>2011-01-01 00:30:00</th>\n",
       "      <td>0.0</td>\n",
       "      <td>0.0</td>\n",
       "      <td>0.0</td>\n",
       "      <td>0.0</td>\n",
       "      <td>0.0</td>\n",
       "      <td>0.0</td>\n",
       "      <td>0.0</td>\n",
       "      <td>0.0</td>\n",
       "      <td>0.0</td>\n",
       "      <td>0.0</td>\n",
       "      <td>...</td>\n",
       "      <td>0.0</td>\n",
       "      <td>0.0</td>\n",
       "      <td>0.0</td>\n",
       "      <td>0.0</td>\n",
       "      <td>0.0</td>\n",
       "      <td>0.0</td>\n",
       "      <td>0.0</td>\n",
       "      <td>0.0</td>\n",
       "      <td>0.0</td>\n",
       "      <td>0.0</td>\n",
       "    </tr>\n",
       "    <tr>\n",
       "      <th>2011-01-01 00:45:00</th>\n",
       "      <td>0.0</td>\n",
       "      <td>0.0</td>\n",
       "      <td>0.0</td>\n",
       "      <td>0.0</td>\n",
       "      <td>0.0</td>\n",
       "      <td>0.0</td>\n",
       "      <td>0.0</td>\n",
       "      <td>0.0</td>\n",
       "      <td>0.0</td>\n",
       "      <td>0.0</td>\n",
       "      <td>...</td>\n",
       "      <td>0.0</td>\n",
       "      <td>0.0</td>\n",
       "      <td>0.0</td>\n",
       "      <td>0.0</td>\n",
       "      <td>0.0</td>\n",
       "      <td>0.0</td>\n",
       "      <td>0.0</td>\n",
       "      <td>0.0</td>\n",
       "      <td>0.0</td>\n",
       "      <td>0.0</td>\n",
       "    </tr>\n",
       "    <tr>\n",
       "      <th>2011-01-01 01:00:00</th>\n",
       "      <td>0.0</td>\n",
       "      <td>0.0</td>\n",
       "      <td>0.0</td>\n",
       "      <td>0.0</td>\n",
       "      <td>0.0</td>\n",
       "      <td>0.0</td>\n",
       "      <td>0.0</td>\n",
       "      <td>0.0</td>\n",
       "      <td>0.0</td>\n",
       "      <td>0.0</td>\n",
       "      <td>...</td>\n",
       "      <td>0.0</td>\n",
       "      <td>0.0</td>\n",
       "      <td>0.0</td>\n",
       "      <td>0.0</td>\n",
       "      <td>0.0</td>\n",
       "      <td>0.0</td>\n",
       "      <td>0.0</td>\n",
       "      <td>0.0</td>\n",
       "      <td>0.0</td>\n",
       "      <td>0.0</td>\n",
       "    </tr>\n",
       "    <tr>\n",
       "      <th>2011-01-01 01:15:00</th>\n",
       "      <td>0.0</td>\n",
       "      <td>0.0</td>\n",
       "      <td>0.0</td>\n",
       "      <td>0.0</td>\n",
       "      <td>0.0</td>\n",
       "      <td>0.0</td>\n",
       "      <td>0.0</td>\n",
       "      <td>0.0</td>\n",
       "      <td>0.0</td>\n",
       "      <td>0.0</td>\n",
       "      <td>...</td>\n",
       "      <td>0.0</td>\n",
       "      <td>0.0</td>\n",
       "      <td>0.0</td>\n",
       "      <td>0.0</td>\n",
       "      <td>0.0</td>\n",
       "      <td>0.0</td>\n",
       "      <td>0.0</td>\n",
       "      <td>0.0</td>\n",
       "      <td>0.0</td>\n",
       "      <td>0.0</td>\n",
       "    </tr>\n",
       "  </tbody>\n",
       "</table>\n",
       "<p>5 rows × 370 columns</p>\n",
       "</div>"
      ],
      "text/plain": [
       "                     MT_001  MT_002  MT_003  MT_004  MT_005  MT_006  MT_007  \\\n",
       "2011-01-01 00:15:00     0.0     0.0     0.0     0.0     0.0     0.0     0.0   \n",
       "2011-01-01 00:30:00     0.0     0.0     0.0     0.0     0.0     0.0     0.0   \n",
       "2011-01-01 00:45:00     0.0     0.0     0.0     0.0     0.0     0.0     0.0   \n",
       "2011-01-01 01:00:00     0.0     0.0     0.0     0.0     0.0     0.0     0.0   \n",
       "2011-01-01 01:15:00     0.0     0.0     0.0     0.0     0.0     0.0     0.0   \n",
       "\n",
       "                     MT_008  MT_009  MT_010  ...  MT_361  MT_362  MT_363  \\\n",
       "2011-01-01 00:15:00     0.0     0.0     0.0  ...     0.0     0.0     0.0   \n",
       "2011-01-01 00:30:00     0.0     0.0     0.0  ...     0.0     0.0     0.0   \n",
       "2011-01-01 00:45:00     0.0     0.0     0.0  ...     0.0     0.0     0.0   \n",
       "2011-01-01 01:00:00     0.0     0.0     0.0  ...     0.0     0.0     0.0   \n",
       "2011-01-01 01:15:00     0.0     0.0     0.0  ...     0.0     0.0     0.0   \n",
       "\n",
       "                     MT_364  MT_365  MT_366  MT_367  MT_368  MT_369  MT_370  \n",
       "2011-01-01 00:15:00     0.0     0.0     0.0     0.0     0.0     0.0     0.0  \n",
       "2011-01-01 00:30:00     0.0     0.0     0.0     0.0     0.0     0.0     0.0  \n",
       "2011-01-01 00:45:00     0.0     0.0     0.0     0.0     0.0     0.0     0.0  \n",
       "2011-01-01 01:00:00     0.0     0.0     0.0     0.0     0.0     0.0     0.0  \n",
       "2011-01-01 01:15:00     0.0     0.0     0.0     0.0     0.0     0.0     0.0  \n",
       "\n",
       "[5 rows x 370 columns]"
      ]
     },
     "execution_count": 10,
     "metadata": {},
     "output_type": "execute_result"
    }
   ],
   "source": [
    "target_df = pd.read_csv(csv_path, sep=\";\", index_col=0, parse_dates=True, decimal=',')\n",
    "target_df.head()"
   ]
  },
  {
   "cell_type": "code",
   "execution_count": 3,
   "metadata": {
    "ExecuteTime": {
     "end_time": "2024-02-18T09:16:40.508788Z",
     "start_time": "2024-02-18T09:16:28.742718Z"
    },
    "execution": {
     "iopub.execute_input": "2023-01-10T06:54:38.645782Z",
     "iopub.status.busy": "2023-01-10T06:54:38.645423Z",
     "iopub.status.idle": "2023-01-10T06:54:46.858712Z",
     "shell.execute_reply": "2023-01-10T06:54:46.857768Z",
     "shell.execute_reply.started": "2023-01-10T06:54:38.645746Z"
    }
   },
   "outputs": [],
   "source": [
    "# initial fixing\n",
    "# text_target_df的时序长度就是预测长度，即horizon_size;\n",
    "target_df = pd.read_csv(csv_path, sep=\";\", index_col=0, parse_dates=True, decimal=',')\n",
    "target_df = target_df.resample('12H',label = 'left',closed = 'right').sum()[train_start:test_end]\n",
    "target_df.fillna(0, inplace=True)\n",
    "\n",
    "train_target_df = target_df[train_start:train_end]\n",
    "test_target_df = target_df[test_start:test_end]\n",
    "horizon_size = test_target_df.shape[0]"
   ]
  },
  {
   "cell_type": "code",
   "execution_count": 4,
   "metadata": {
    "ExecuteTime": {
     "end_time": "2024-02-18T09:16:41.858815Z",
     "start_time": "2024-02-18T09:16:41.820625Z"
    }
   },
   "outputs": [
    {
     "data": {
      "text/html": [
       "<div>\n",
       "<style scoped>\n",
       "    .dataframe tbody tr th:only-of-type {\n",
       "        vertical-align: middle;\n",
       "    }\n",
       "\n",
       "    .dataframe tbody tr th {\n",
       "        vertical-align: top;\n",
       "    }\n",
       "\n",
       "    .dataframe thead th {\n",
       "        text-align: right;\n",
       "    }\n",
       "</style>\n",
       "<table border=\"1\" class=\"dataframe\">\n",
       "  <thead>\n",
       "    <tr style=\"text-align: right;\">\n",
       "      <th></th>\n",
       "      <th>MT_001</th>\n",
       "      <th>MT_002</th>\n",
       "      <th>MT_003</th>\n",
       "      <th>MT_004</th>\n",
       "      <th>MT_005</th>\n",
       "      <th>MT_006</th>\n",
       "      <th>MT_007</th>\n",
       "      <th>MT_008</th>\n",
       "      <th>MT_009</th>\n",
       "      <th>MT_010</th>\n",
       "      <th>...</th>\n",
       "      <th>MT_361</th>\n",
       "      <th>MT_362</th>\n",
       "      <th>MT_363</th>\n",
       "      <th>MT_364</th>\n",
       "      <th>MT_365</th>\n",
       "      <th>MT_366</th>\n",
       "      <th>MT_367</th>\n",
       "      <th>MT_368</th>\n",
       "      <th>MT_369</th>\n",
       "      <th>MT_370</th>\n",
       "    </tr>\n",
       "  </thead>\n",
       "  <tbody>\n",
       "    <tr>\n",
       "      <th>2011-01-01 00:00:00</th>\n",
       "      <td>0.0</td>\n",
       "      <td>0.0</td>\n",
       "      <td>0.0</td>\n",
       "      <td>0.0</td>\n",
       "      <td>0.0</td>\n",
       "      <td>0.0</td>\n",
       "      <td>0.0</td>\n",
       "      <td>0.0</td>\n",
       "      <td>0.0</td>\n",
       "      <td>0.0</td>\n",
       "      <td>...</td>\n",
       "      <td>0.0</td>\n",
       "      <td>0.0</td>\n",
       "      <td>0.0</td>\n",
       "      <td>0.0</td>\n",
       "      <td>0.0</td>\n",
       "      <td>0.0</td>\n",
       "      <td>0.0</td>\n",
       "      <td>0.0</td>\n",
       "      <td>0.0</td>\n",
       "      <td>0.0</td>\n",
       "    </tr>\n",
       "    <tr>\n",
       "      <th>2011-01-01 12:00:00</th>\n",
       "      <td>0.0</td>\n",
       "      <td>0.0</td>\n",
       "      <td>0.0</td>\n",
       "      <td>0.0</td>\n",
       "      <td>0.0</td>\n",
       "      <td>0.0</td>\n",
       "      <td>0.0</td>\n",
       "      <td>0.0</td>\n",
       "      <td>0.0</td>\n",
       "      <td>0.0</td>\n",
       "      <td>...</td>\n",
       "      <td>0.0</td>\n",
       "      <td>0.0</td>\n",
       "      <td>0.0</td>\n",
       "      <td>0.0</td>\n",
       "      <td>0.0</td>\n",
       "      <td>0.0</td>\n",
       "      <td>0.0</td>\n",
       "      <td>0.0</td>\n",
       "      <td>0.0</td>\n",
       "      <td>0.0</td>\n",
       "    </tr>\n",
       "    <tr>\n",
       "      <th>2011-01-02 00:00:00</th>\n",
       "      <td>0.0</td>\n",
       "      <td>0.0</td>\n",
       "      <td>0.0</td>\n",
       "      <td>0.0</td>\n",
       "      <td>0.0</td>\n",
       "      <td>0.0</td>\n",
       "      <td>0.0</td>\n",
       "      <td>0.0</td>\n",
       "      <td>0.0</td>\n",
       "      <td>0.0</td>\n",
       "      <td>...</td>\n",
       "      <td>0.0</td>\n",
       "      <td>0.0</td>\n",
       "      <td>0.0</td>\n",
       "      <td>0.0</td>\n",
       "      <td>0.0</td>\n",
       "      <td>0.0</td>\n",
       "      <td>0.0</td>\n",
       "      <td>0.0</td>\n",
       "      <td>0.0</td>\n",
       "      <td>0.0</td>\n",
       "    </tr>\n",
       "    <tr>\n",
       "      <th>2011-01-02 12:00:00</th>\n",
       "      <td>0.0</td>\n",
       "      <td>0.0</td>\n",
       "      <td>0.0</td>\n",
       "      <td>0.0</td>\n",
       "      <td>0.0</td>\n",
       "      <td>0.0</td>\n",
       "      <td>0.0</td>\n",
       "      <td>0.0</td>\n",
       "      <td>0.0</td>\n",
       "      <td>0.0</td>\n",
       "      <td>...</td>\n",
       "      <td>0.0</td>\n",
       "      <td>0.0</td>\n",
       "      <td>0.0</td>\n",
       "      <td>0.0</td>\n",
       "      <td>0.0</td>\n",
       "      <td>0.0</td>\n",
       "      <td>0.0</td>\n",
       "      <td>0.0</td>\n",
       "      <td>0.0</td>\n",
       "      <td>0.0</td>\n",
       "    </tr>\n",
       "    <tr>\n",
       "      <th>2011-01-03 00:00:00</th>\n",
       "      <td>0.0</td>\n",
       "      <td>0.0</td>\n",
       "      <td>0.0</td>\n",
       "      <td>0.0</td>\n",
       "      <td>0.0</td>\n",
       "      <td>0.0</td>\n",
       "      <td>0.0</td>\n",
       "      <td>0.0</td>\n",
       "      <td>0.0</td>\n",
       "      <td>0.0</td>\n",
       "      <td>...</td>\n",
       "      <td>0.0</td>\n",
       "      <td>0.0</td>\n",
       "      <td>0.0</td>\n",
       "      <td>0.0</td>\n",
       "      <td>0.0</td>\n",
       "      <td>0.0</td>\n",
       "      <td>0.0</td>\n",
       "      <td>0.0</td>\n",
       "      <td>0.0</td>\n",
       "      <td>0.0</td>\n",
       "    </tr>\n",
       "  </tbody>\n",
       "</table>\n",
       "<p>5 rows × 370 columns</p>\n",
       "</div>"
      ],
      "text/plain": [
       "                     MT_001  MT_002  MT_003  MT_004  MT_005  MT_006  MT_007  \\\n",
       "2011-01-01 00:00:00     0.0     0.0     0.0     0.0     0.0     0.0     0.0   \n",
       "2011-01-01 12:00:00     0.0     0.0     0.0     0.0     0.0     0.0     0.0   \n",
       "2011-01-02 00:00:00     0.0     0.0     0.0     0.0     0.0     0.0     0.0   \n",
       "2011-01-02 12:00:00     0.0     0.0     0.0     0.0     0.0     0.0     0.0   \n",
       "2011-01-03 00:00:00     0.0     0.0     0.0     0.0     0.0     0.0     0.0   \n",
       "\n",
       "                     MT_008  MT_009  MT_010  ...  MT_361  MT_362  MT_363  \\\n",
       "2011-01-01 00:00:00     0.0     0.0     0.0  ...     0.0     0.0     0.0   \n",
       "2011-01-01 12:00:00     0.0     0.0     0.0  ...     0.0     0.0     0.0   \n",
       "2011-01-02 00:00:00     0.0     0.0     0.0  ...     0.0     0.0     0.0   \n",
       "2011-01-02 12:00:00     0.0     0.0     0.0  ...     0.0     0.0     0.0   \n",
       "2011-01-03 00:00:00     0.0     0.0     0.0  ...     0.0     0.0     0.0   \n",
       "\n",
       "                     MT_364  MT_365  MT_366  MT_367  MT_368  MT_369  MT_370  \n",
       "2011-01-01 00:00:00     0.0     0.0     0.0     0.0     0.0     0.0     0.0  \n",
       "2011-01-01 12:00:00     0.0     0.0     0.0     0.0     0.0     0.0     0.0  \n",
       "2011-01-02 00:00:00     0.0     0.0     0.0     0.0     0.0     0.0     0.0  \n",
       "2011-01-02 12:00:00     0.0     0.0     0.0     0.0     0.0     0.0     0.0  \n",
       "2011-01-03 00:00:00     0.0     0.0     0.0     0.0     0.0     0.0     0.0  \n",
       "\n",
       "[5 rows x 370 columns]"
      ]
     },
     "execution_count": 4,
     "metadata": {},
     "output_type": "execute_result"
    }
   ],
   "source": [
    "target_df.head()"
   ]
  },
  {
   "cell_type": "code",
   "execution_count": 5,
   "metadata": {
    "ExecuteTime": {
     "end_time": "2024-02-18T09:16:42.630097Z",
     "start_time": "2024-02-18T09:16:42.401928Z"
    },
    "execution": {
     "iopub.execute_input": "2023-01-10T06:54:46.872534Z",
     "iopub.status.busy": "2023-01-10T06:54:46.871640Z",
     "iopub.status.idle": "2023-01-10T06:54:46.998146Z",
     "shell.execute_reply": "2023-01-10T06:54:46.997141Z",
     "shell.execute_reply.started": "2023-01-10T06:54:46.872496Z"
    }
   },
   "outputs": [],
   "source": [
    "# 归一化目标值\n",
    "from sklearn.preprocessing import MinMaxScaler\n",
    "scaler = MinMaxScaler()\n",
    "scaler.fit(train_target_df)\n",
    "train_target_df = pd.DataFrame(scaler.transform(train_target_df), index=train_target_df.index, columns=train_target_df.columns)\n",
    "test_target_df = pd.DataFrame(scaler.transform(test_target_df), index=test_target_df.index, columns=test_target_df.columns)"
   ]
  },
  {
   "cell_type": "code",
   "execution_count": 6,
   "metadata": {
    "ExecuteTime": {
     "end_time": "2024-02-18T09:16:43.474482Z",
     "start_time": "2024-02-18T09:16:43.454151Z"
    },
    "execution": {
     "iopub.execute_input": "2023-01-10T06:54:47.000147Z",
     "iopub.status.busy": "2023-01-10T06:54:46.999682Z",
     "iopub.status.idle": "2023-01-10T06:54:47.015969Z",
     "shell.execute_reply": "2023-01-10T06:54:47.014937Z",
     "shell.execute_reply.started": "2023-01-10T06:54:47.000108Z"
    }
   },
   "outputs": [
    {
     "data": {
      "text/html": [
       "<div>\n",
       "<style scoped>\n",
       "    .dataframe tbody tr th:only-of-type {\n",
       "        vertical-align: middle;\n",
       "    }\n",
       "\n",
       "    .dataframe tbody tr th {\n",
       "        vertical-align: top;\n",
       "    }\n",
       "\n",
       "    .dataframe thead th {\n",
       "        text-align: right;\n",
       "    }\n",
       "</style>\n",
       "<table border=\"1\" class=\"dataframe\">\n",
       "  <thead>\n",
       "    <tr style=\"text-align: right;\">\n",
       "      <th></th>\n",
       "      <th>hour</th>\n",
       "      <th>dayofweek</th>\n",
       "      <th>month</th>\n",
       "    </tr>\n",
       "  </thead>\n",
       "  <tbody>\n",
       "    <tr>\n",
       "      <th>2011-01-01 00:00:00</th>\n",
       "      <td>0</td>\n",
       "      <td>5</td>\n",
       "      <td>1</td>\n",
       "    </tr>\n",
       "    <tr>\n",
       "      <th>2011-01-01 12:00:00</th>\n",
       "      <td>12</td>\n",
       "      <td>5</td>\n",
       "      <td>1</td>\n",
       "    </tr>\n",
       "    <tr>\n",
       "      <th>2011-01-02 00:00:00</th>\n",
       "      <td>0</td>\n",
       "      <td>6</td>\n",
       "      <td>1</td>\n",
       "    </tr>\n",
       "    <tr>\n",
       "      <th>2011-01-02 12:00:00</th>\n",
       "      <td>12</td>\n",
       "      <td>6</td>\n",
       "      <td>1</td>\n",
       "    </tr>\n",
       "    <tr>\n",
       "      <th>2011-01-03 00:00:00</th>\n",
       "      <td>0</td>\n",
       "      <td>0</td>\n",
       "      <td>1</td>\n",
       "    </tr>\n",
       "  </tbody>\n",
       "</table>\n",
       "</div>"
      ],
      "text/plain": [
       "                     hour  dayofweek  month\n",
       "2011-01-01 00:00:00     0          5      1\n",
       "2011-01-01 12:00:00    12          5      1\n",
       "2011-01-02 00:00:00     0          6      1\n",
       "2011-01-02 12:00:00    12          6      1\n",
       "2011-01-03 00:00:00     0          0      1"
      ]
     },
     "metadata": {},
     "output_type": "display_data"
    }
   ],
   "source": [
    "# 提取小时、天、月份作为特征\n",
    "covariate_df = pd.DataFrame(index=target_df.index,\n",
    "                                data={'hour':target_df.index.hour,\n",
    "                                      'dayofweek':target_df.index.dayofweek,\n",
    "                                      'month': target_df.index.month\n",
    "                                })\n",
    "display(covariate_df.head())\n",
    "# 特征标准化\n",
    "for col in covariate_df.columns:\n",
    "        covariate_df[col] = (covariate_df[col] - np.mean(covariate_df[col]))/np.std(covariate_df[col])\n",
    "\n",
    "train_covariate_df = covariate_df[train_start:train_end]\n",
    "test_covariate_df = covariate_df[test_start:test_end]"
   ]
  },
  {
   "cell_type": "code",
   "execution_count": 7,
   "metadata": {
    "ExecuteTime": {
     "end_time": "2024-02-18T09:16:44.685669Z",
     "start_time": "2024-02-18T09:16:44.671635Z"
    }
   },
   "outputs": [
    {
     "data": {
      "text/html": [
       "<div>\n",
       "<style scoped>\n",
       "    .dataframe tbody tr th:only-of-type {\n",
       "        vertical-align: middle;\n",
       "    }\n",
       "\n",
       "    .dataframe tbody tr th {\n",
       "        vertical-align: top;\n",
       "    }\n",
       "\n",
       "    .dataframe thead th {\n",
       "        text-align: right;\n",
       "    }\n",
       "</style>\n",
       "<table border=\"1\" class=\"dataframe\">\n",
       "  <thead>\n",
       "    <tr style=\"text-align: right;\">\n",
       "      <th></th>\n",
       "      <th>hour</th>\n",
       "      <th>dayofweek</th>\n",
       "      <th>month</th>\n",
       "    </tr>\n",
       "  </thead>\n",
       "  <tbody>\n",
       "    <tr>\n",
       "      <th>2011-01-01 00:00:00</th>\n",
       "      <td>-1.0</td>\n",
       "      <td>0.997681</td>\n",
       "      <td>-1.541571</td>\n",
       "    </tr>\n",
       "    <tr>\n",
       "      <th>2011-01-01 12:00:00</th>\n",
       "      <td>1.0</td>\n",
       "      <td>0.997681</td>\n",
       "      <td>-1.541571</td>\n",
       "    </tr>\n",
       "    <tr>\n",
       "      <th>2011-01-02 00:00:00</th>\n",
       "      <td>-1.0</td>\n",
       "      <td>1.497450</td>\n",
       "      <td>-1.541571</td>\n",
       "    </tr>\n",
       "    <tr>\n",
       "      <th>2011-01-02 12:00:00</th>\n",
       "      <td>1.0</td>\n",
       "      <td>1.497450</td>\n",
       "      <td>-1.541571</td>\n",
       "    </tr>\n",
       "    <tr>\n",
       "      <th>2011-01-03 00:00:00</th>\n",
       "      <td>-1.0</td>\n",
       "      <td>-1.501163</td>\n",
       "      <td>-1.541571</td>\n",
       "    </tr>\n",
       "  </tbody>\n",
       "</table>\n",
       "</div>"
      ],
      "text/plain": [
       "                     hour  dayofweek     month\n",
       "2011-01-01 00:00:00  -1.0   0.997681 -1.541571\n",
       "2011-01-01 12:00:00   1.0   0.997681 -1.541571\n",
       "2011-01-02 00:00:00  -1.0   1.497450 -1.541571\n",
       "2011-01-02 12:00:00   1.0   1.497450 -1.541571\n",
       "2011-01-03 00:00:00  -1.0  -1.501163 -1.541571"
      ]
     },
     "execution_count": 7,
     "metadata": {},
     "output_type": "execute_result"
    }
   ],
   "source": [
    "covariate_df.head()"
   ]
  },
  {
   "cell_type": "code",
   "execution_count": 19,
   "metadata": {
    "ExecuteTime": {
     "end_time": "2024-02-19T12:10:23.330312Z",
     "start_time": "2024-02-19T12:10:23.302501Z"
    },
    "execution": {
     "iopub.execute_input": "2023-01-10T06:54:47.027505Z",
     "iopub.status.busy": "2023-01-10T06:54:47.026796Z",
     "iopub.status.idle": "2023-01-10T06:54:48.660729Z",
     "shell.execute_reply": "2023-01-10T06:54:48.659715Z",
     "shell.execute_reply.started": "2023-01-10T06:54:47.027469Z"
    }
   },
   "outputs": [],
   "source": [
    "import torch\n",
    "from torch.utils.data import Dataset\n",
    "\n",
    "desired_quantiles = [0.25, 0.5, 0.75, 0.95]\n",
    "\n",
    "class MQRNN_dataset(Dataset):\n",
    "    \n",
    "    def __init__(self,\n",
    "                series_df:pd.DataFrame,\n",
    "                covariate_df:pd.DataFrame, \n",
    "                horizon_size:int=horizon_size,\n",
    "                quantile_size:int=len(desired_quantiles)):\n",
    "        \n",
    "        self.series_df = series_df\n",
    "        self.covariate_df = covariate_df\n",
    "        self.horizon_size = horizon_size\n",
    "        self.quantile_size = quantile_size\n",
    "        full_covariate = []\n",
    "        covariate_size = self.covariate_df.shape[1]\n",
    "        # 按horizon_size为窗口长度，划分特征数据为horizon*\n",
    "        for i in range(1, self.covariate_df.shape[0] - horizon_size+1):\n",
    "            cur_covariate = []\n",
    "            cur_covariate.append(self.covariate_df.iloc[i:i+horizon_size,:].to_numpy())\n",
    "#             cur_covariate = self.covariate_df.iloc[i:i+horizon_size,:].to_numpy()\n",
    "            full_covariate.append(cur_covariate)\n",
    "        full_covariate = np.array(full_covariate)\n",
    "        print(full_covariate.shape)\n",
    "        full_covariate = full_covariate.reshape(-1, horizon_size * covariate_size)\n",
    "        print(full_covariate.shape)\n",
    "        self.next_covariate = full_covariate\n",
    "    \n",
    "    def __len__(self):\n",
    "        return self.series_df.shape[1]\n",
    "    \n",
    "    def __getitem__(self, idx):\n",
    "        cur_series = np.array(self.series_df.iloc[: -self.horizon_size, idx])\n",
    "        cur_covariate = np.array(self.covariate_df.iloc[:-self.horizon_size, :]) # covariate used in generating hidden states\n",
    "\n",
    "        covariate_size = self.covariate_df.shape[1]\n",
    "\n",
    "        # 真实值y，每组都是horizon_size的长度，这里时间序列就是1-30,2-31,3-32\n",
    "        real_vals_list = []\n",
    "        for i in range(1, self.horizon_size+1):\n",
    "            real_vals_list.append(np.array(self.series_df.iloc[i: self.series_df.shape[0]-self.horizon_size+i, idx]))\n",
    "        real_vals_array = np.array(real_vals_list) #[horizon_size, seq_len]\n",
    "        real_vals_array = real_vals_array.T #[seq_len, horizon_size]\n",
    "        \n",
    "        cur_series_tensor = torch.tensor(cur_series)\n",
    "        cur_series_tensor = torch.unsqueeze(cur_series_tensor,dim=1) # [seq_len, 1]\n",
    "        cur_covariate_tensor = torch.tensor(cur_covariate) #[seq_len, covariate_size]\n",
    "        # encoder的输入矩阵\n",
    "        cur_series_covariate_tensor = torch.cat([cur_series_tensor, cur_covariate_tensor],dim=1)\n",
    "        # decoder的输入矩阵\n",
    "        next_covariate_tensor = torch.tensor(self.next_covariate) #[seq_len, horizon_size * covariate_size]\n",
    "        # 真实值\n",
    "        cur_real_vals_tensor = torch.tensor(real_vals_array)\n",
    "        return cur_series_covariate_tensor, next_covariate_tensor, cur_real_vals_tensor"
   ]
  },
  {
   "cell_type": "code",
   "execution_count": 20,
   "metadata": {
    "ExecuteTime": {
     "end_time": "2024-02-19T12:10:24.403776Z",
     "start_time": "2024-02-19T12:10:24.386648Z"
    }
   },
   "outputs": [
    {
     "data": {
      "text/plain": [
       "(2648, 90)"
      ]
     },
     "execution_count": 20,
     "metadata": {},
     "output_type": "execute_result"
    }
   ],
   "source": [
    "data.next_covariate.shape"
   ]
  },
  {
   "cell_type": "code",
   "execution_count": 21,
   "metadata": {
    "ExecuteTime": {
     "end_time": "2024-02-19T12:10:37.715347Z",
     "start_time": "2024-02-19T12:10:36.421069Z"
    }
   },
   "outputs": [
    {
     "name": "stdout",
     "output_type": "stream",
     "text": [
      "(2648, 1, 30, 3)\n",
      "(2648, 90)\n"
     ]
    }
   ],
   "source": [
    "data = MQRNN_dataset(train_target_df, train_covariate_df)\n",
    "# data.__getitem__(10)[1].shape"
   ]
  },
  {
   "cell_type": "code",
   "execution_count": 135,
   "metadata": {
    "ExecuteTime": {
     "end_time": "2024-02-18T08:24:15.608160Z",
     "start_time": "2024-02-18T08:24:13.129775Z"
    },
    "collapsed": true
   },
   "outputs": [
    {
     "name": "stderr",
     "output_type": "stream",
     "text": [
      "  8%|██████▉                                                                            | 2/24 [00:00<00:02,  8.00it/s]"
     ]
    },
    {
     "name": "stdout",
     "output_type": "stream",
     "text": [
      "2648\n",
      "2648\n"
     ]
    },
    {
     "name": "stderr",
     "output_type": "stream",
     "text": [
      " 17%|█████████████▊                                                                     | 4/24 [00:00<00:02,  8.54it/s]"
     ]
    },
    {
     "name": "stdout",
     "output_type": "stream",
     "text": [
      "2648\n",
      "2648\n",
      "2648\n"
     ]
    },
    {
     "name": "stderr",
     "output_type": "stream",
     "text": [
      " 33%|███████████████████████████▋                                                       | 8/24 [00:00<00:01,  9.54it/s]"
     ]
    },
    {
     "name": "stdout",
     "output_type": "stream",
     "text": [
      "2648\n",
      "2648\n",
      "2648\n"
     ]
    },
    {
     "name": "stderr",
     "output_type": "stream",
     "text": [
      " 46%|█████████████████████████████████████▌                                            | 11/24 [00:01<00:01, 10.10it/s]"
     ]
    },
    {
     "name": "stdout",
     "output_type": "stream",
     "text": [
      "2648\n",
      "2648\n",
      "2648\n"
     ]
    },
    {
     "name": "stderr",
     "output_type": "stream",
     "text": [
      " 54%|████████████████████████████████████████████▍                                     | 13/24 [00:01<00:01,  9.73it/s]"
     ]
    },
    {
     "name": "stdout",
     "output_type": "stream",
     "text": [
      "2648\n",
      "2648\n"
     ]
    },
    {
     "name": "stderr",
     "output_type": "stream",
     "text": [
      " 62%|███████████████████████████████████████████████████▎                              | 15/24 [00:01<00:00,  9.59it/s]"
     ]
    },
    {
     "name": "stdout",
     "output_type": "stream",
     "text": [
      "2648\n",
      "2648\n",
      "2648\n"
     ]
    },
    {
     "name": "stderr",
     "output_type": "stream",
     "text": [
      " 75%|█████████████████████████████████████████████████████████████▌                    | 18/24 [00:01<00:00,  9.81it/s]"
     ]
    },
    {
     "name": "stdout",
     "output_type": "stream",
     "text": [
      "2648\n",
      "2648\n"
     ]
    },
    {
     "name": "stderr",
     "output_type": "stream",
     "text": [
      " 83%|████████████████████████████████████████████████████████████████████▎             | 20/24 [00:02<00:00,  9.42it/s]"
     ]
    },
    {
     "name": "stdout",
     "output_type": "stream",
     "text": [
      "2648\n",
      "2648\n"
     ]
    },
    {
     "name": "stderr",
     "output_type": "stream",
     "text": [
      " 92%|███████████████████████████████████████████████████████████████████████████▏      | 22/24 [00:02<00:00,  9.35it/s]"
     ]
    },
    {
     "name": "stdout",
     "output_type": "stream",
     "text": [
      "2648\n",
      "2648\n"
     ]
    },
    {
     "name": "stderr",
     "output_type": "stream",
     "text": [
      "100%|██████████████████████████████████████████████████████████████████████████████████| 24/24 [00:02<00:00,  9.75it/s]"
     ]
    },
    {
     "name": "stdout",
     "output_type": "stream",
     "text": [
      "2648\n",
      "2648\n"
     ]
    },
    {
     "name": "stderr",
     "output_type": "stream",
     "text": [
      "\n"
     ]
    }
   ],
   "source": [
    "from torch.utils.data import DataLoader\n",
    "from tqdm import tqdm, trange\n",
    "\n",
    "data_iter = DataLoader(dataset=data, batch_size=16, shuffle=True)\n",
    "pbar = tqdm(data_iter)\n",
    "for (cur_series_tensor, cur_covariate_tensor, cur_real_vals_tensor) in pbar:\n",
    "    batch_size, seq_len, horizon_size  = cur_series_tensor.shape[0], cur_series_tensor.shape[1], cur_covariate_tensor.shape[-1]\n",
    "    print(seq_len)"
   ]
  },
  {
   "cell_type": "code",
   "execution_count": 8,
   "metadata": {
    "ExecuteTime": {
     "end_time": "2024-02-18T08:34:17.287621Z",
     "start_time": "2024-02-18T08:34:17.267063Z"
    },
    "execution": {
     "iopub.execute_input": "2023-01-10T06:54:48.666687Z",
     "iopub.status.busy": "2023-01-10T06:54:48.666205Z",
     "iopub.status.idle": "2023-01-10T06:54:48.684984Z",
     "shell.execute_reply": "2023-01-10T06:54:48.683862Z",
     "shell.execute_reply.started": "2023-01-10T06:54:48.666656Z"
    }
   },
   "outputs": [],
   "source": [
    "import torch\n",
    "import torch.nn as nn\n",
    "\n",
    "class MQRNN(nn.Module):\n",
    "    def __init__(self, \n",
    "                horizon_size:int=horizon_size, \n",
    "                hidden_size:int=100, \n",
    "                quantiles:list=desired_quantiles,\n",
    "                dropout:float=0.3,\n",
    "                layer_size:int=3,\n",
    "                context_size:int=50, \n",
    "                covariate_size:int=num_covariates,\n",
    "                bidirectional=False,\n",
    "                device=torch.device('cuda')):\n",
    "        super(MQRNN, self).__init__()\n",
    "        self.quantiles = desired_quantiles\n",
    "        self.quantile_size = len(quantiles)\n",
    "        self.bidirectional = bidirectional\n",
    "        self.hidden_size = hidden_size\n",
    "        self.horizon_size = horizon_size\n",
    "        self.device = device\n",
    "        self.covariate_size = covariate_size\n",
    "\n",
    "        self.encoder = nn.LSTM(input_size= covariate_size+1, \n",
    "                            hidden_size=hidden_size, \n",
    "                            num_layers=layer_size, \n",
    "                            dropout=dropout,\n",
    "                            bidirectional=bidirectional)\n",
    "        self.global_decoder = nn.Sequential(nn.Linear(in_features= hidden_size + covariate_size*horizon_size, out_features= horizon_size*hidden_size*3),\n",
    "                                           nn.ReLU(),\n",
    "                                           nn.Linear(in_features= horizon_size*hidden_size*3, out_features= horizon_size*hidden_size*2),\n",
    "                                           nn.ReLU(),\n",
    "                                           nn.Linear(in_features= horizon_size*hidden_size*2, out_features= (horizon_size+1)*context_size),\n",
    "                                           nn.ReLU())\n",
    "        self.local_decoder = nn.Sequential(nn.Linear(in_features= horizon_size*context_size + horizon_size* covariate_size + context_size, out_features= horizon_size* context_size),\n",
    "                                           nn.ReLU(),\n",
    "                                           nn.Linear(in_features= horizon_size* context_size, out_features= horizon_size*self.quantile_size),\n",
    "                                           nn.ReLU())\n",
    "        self.encoder.double().to(self.device)\n",
    "        self.global_decoder.double().to(self.device)\n",
    "        self.local_decoder.double().to(self.device)\n",
    "        \n",
    "    def forward(self, cur_series_covariate_tensor, next_covariate_tensor):\n",
    "        seq_len, batch_size = cur_series_covariate_tensor.shape[0], cur_series_covariate_tensor.shape[1]\n",
    "        direction_size = 2 if self.bidirectional else 1\n",
    "        outputs,_ = self.encoder(cur_series_covariate_tensor)\n",
    "        outputs_reshape = outputs.view(seq_len,batch_size,direction_size,self.hidden_size)[:,:,-1,:]\n",
    "        encoder_outputs = outputs_reshape.view(seq_len,batch_size,self.hidden_size)\n",
    "        if not self.training:\n",
    "            encoder_outputs = torch.unsqueeze(encoder_outputs[-1],dim=0) #[1,1,hidden_size]\n",
    "\n",
    "        global_decoder_output = self.global_decoder(torch.cat([encoder_outputs, next_covariate_tensor], dim=2))\n",
    "        local_decoder_output = self.local_decoder(torch.cat([global_decoder_output, next_covariate_tensor], dim=2))\n",
    "        \n",
    "        seq_len = local_decoder_output.shape[0]\n",
    "        batch_size = local_decoder_output.shape[1]\n",
    "        return local_decoder_output.view(seq_len, batch_size, self.horizon_size, self.quantile_size)"
   ]
  },
  {
   "cell_type": "code",
   "execution_count": 9,
   "metadata": {
    "ExecuteTime": {
     "end_time": "2024-02-18T08:34:18.684193Z",
     "start_time": "2024-02-18T08:34:18.669131Z"
    },
    "execution": {
     "iopub.execute_input": "2023-01-10T06:54:48.687057Z",
     "iopub.status.busy": "2023-01-10T06:54:48.686660Z",
     "iopub.status.idle": "2023-01-10T06:54:48.706036Z",
     "shell.execute_reply": "2023-01-10T06:54:48.705030Z",
     "shell.execute_reply.started": "2023-01-10T06:54:48.687019Z"
    }
   },
   "outputs": [],
   "source": [
    "from torch.utils.data import DataLoader\n",
    "from tqdm import tqdm, trange\n",
    "\n",
    "def train(model, train_dataset, desired_quantiles=desired_quantiles, batch_size=1, num_epochs=1, lr=1e-3, device=torch.device(\"cuda\")):\n",
    "    optimizer = torch.optim.Adam(model.parameters(),lr=lr)\n",
    "    data_iter = DataLoader(dataset=train_dataset, batch_size=batch_size, shuffle=True)\n",
    "    \n",
    "    model.train()\n",
    "    for epoch in range(num_epochs):\n",
    "        epoch_loss_sum = 0.0\n",
    "        total_sample = 0\n",
    "        pbar = tqdm(data_iter)\n",
    "        for (cur_series_tensor, cur_covariate_tensor, cur_real_vals_tensor) in pbar:\n",
    "            batch_size, seq_len, horizon_size  = cur_series_tensor.shape[0], cur_series_tensor.shape[1], cur_covariate_tensor.shape[-1]\n",
    "            total_sample += batch_size * seq_len * horizon_size\n",
    "            optimizer.zero_grad()\n",
    "            cur_series_covariate_tensor = cur_series_tensor.double().permute(1,0,2).to(device) #[seq_len, batch_size, 1+covariate_size]\n",
    "            next_covariate_tensor = cur_covariate_tensor.double().permute(1,0,2).to(device) #[seq_len, batch_size, covariate_size * horizon_size]\n",
    "            cur_real_vals_tensor = cur_real_vals_tensor.double().permute(1,0,2).to(device) #[seq_len, batch_size, horizon_size]\n",
    "            print(cur_series_covariate_tensor.shape, next_covariate_tensor.shape)\n",
    "            model_output = model(cur_series_covariate_tensor, next_covariate_tensor)\n",
    "            print(model_output.shape)\n",
    "            losses = []\n",
    "            for i, p in enumerate(desired_quantiles):\n",
    "                errors = cur_real_vals_tensor - model_output[:,:,:,i]\n",
    "                losses.append(torch.max((p-1)*errors, p*errors))\n",
    "            total_loss = torch.mean(torch.sum(torch.cat(losses, dim=1), dim=1)).to(device)\n",
    "            \n",
    "#             total_loss = torch.tensor([0.0]).to(device)\n",
    "#             for i in range(len(desired_quantiles)):\n",
    "#                 p = desired_quantiles[i]\n",
    "#                 errors = cur_real_vals_tensor - model_output[:,:,:,i]\n",
    "#                 cur_loss = torch.max((p-1)*errors, p*errors)\n",
    "#                 total_loss += torch.sum(cur_loss)\n",
    "\n",
    "            pbar.set_description(f\"Loss:{total_loss.item()}\")\n",
    "            total_loss.backward()\n",
    "            optimizer.step()\n",
    "            epoch_loss_sum += total_loss.item()\n",
    "        epoch_loss_mean = epoch_loss_sum/ total_sample\n",
    "        if (epoch+1)%5 == 0:\n",
    "            print(f\"epoch_num {epoch+1}, current loss is: {epoch_loss_mean}\")\n",
    "\n",
    "def evaluate(model, device=torch.device('cuda'), covariate_size=3):\n",
    "    full_covariate_tensor = torch.tensor(train_covariate_df.to_numpy()).to(device)\n",
    "    next_covariate_tensor = torch.tensor(test_covariate_df.to_numpy().reshape(-1, horizon_size * covariate_size)).unsqueeze(dim=0).to(device)#[1,1,horizon_size * covariate_size]\n",
    "    results = []\n",
    "\n",
    "    model.eval()\n",
    "    with torch.no_grad():\n",
    "        for colname in tqdm(train_target_df.columns):\n",
    "            input_target_tensor = torch.tensor(train_target_df[[colname]].to_numpy()).to(device)\n",
    "            input_target_covariate_tensor = torch.unsqueeze(torch.cat([input_target_tensor, full_covariate_tensor], dim=1), dim= 0).to(device) #[1, seq_len, 1+covariate_size]\n",
    "            input_target_covariate_tensor = input_target_covariate_tensor.permute(1,0,2).to(device) #[seq_len, 1, 1+covariate_size]\n",
    "            model_output = model(input_target_covariate_tensor, next_covariate_tensor)\n",
    "            \n",
    "            output_array = model_output.squeeze(0).cpu()\n",
    "            results.append(output_array)\n",
    "    # 预测结果，结构为 [时间序列数, horizon_size, quantile\n",
    "    predictions = torch.cat(results)\n",
    "    diff = torch.sum(torch.mul(predictions[:,:,1].T - torch.tensor(test_target_df.to_numpy()), predictions[:,:,1].T - torch.tensor(test_target_df.to_numpy()))).item()\n",
    "    test_rmse = np.sqrt(diff/test_target_df.shape[1])\n",
    "    return test_rmse"
   ]
  },
  {
   "cell_type": "code",
   "execution_count": 12,
   "metadata": {
    "ExecuteTime": {
     "end_time": "2024-02-18T09:16:04.744053Z",
     "start_time": "2024-02-18T09:16:04.722052Z"
    },
    "scrolled": true
   },
   "outputs": [
    {
     "ename": "RuntimeError",
     "evalue": "CUDA error: out of memory\nCUDA kernel errors might be asynchronously reported at some other API call, so the stacktrace below might be incorrect.\nFor debugging consider passing CUDA_LAUNCH_BLOCKING=1.\nCompile with `TORCH_USE_CUDA_DSA` to enable device-side assertions.\n",
     "output_type": "error",
     "traceback": [
      "\u001b[1;31m---------------------------------------------------------------------------\u001b[0m",
      "\u001b[1;31mRuntimeError\u001b[0m                              Traceback (most recent call last)",
      "\u001b[1;32m~\\AppData\\Local\\Temp/ipykernel_30768/924670750.py\u001b[0m in \u001b[0;36m<module>\u001b[1;34m\u001b[0m\n\u001b[0;32m      1\u001b[0m \u001b[0mdevice\u001b[0m\u001b[1;33m=\u001b[0m\u001b[0mtorch\u001b[0m\u001b[1;33m.\u001b[0m\u001b[0mdevice\u001b[0m\u001b[1;33m(\u001b[0m\u001b[1;34m\"cuda\"\u001b[0m\u001b[1;33m)\u001b[0m\u001b[1;33m\u001b[0m\u001b[1;33m\u001b[0m\u001b[0m\n\u001b[0;32m      2\u001b[0m \u001b[0mhorizon_size\u001b[0m \u001b[1;33m=\u001b[0m \u001b[1;36m30\u001b[0m\u001b[1;33m\u001b[0m\u001b[1;33m\u001b[0m\u001b[0m\n\u001b[1;32m----> 3\u001b[1;33m \u001b[0mfull_covariate_tensor\u001b[0m \u001b[1;33m=\u001b[0m \u001b[0mtorch\u001b[0m\u001b[1;33m.\u001b[0m\u001b[0mtensor\u001b[0m\u001b[1;33m(\u001b[0m\u001b[0mtrain_covariate_df\u001b[0m\u001b[1;33m.\u001b[0m\u001b[0mto_numpy\u001b[0m\u001b[1;33m(\u001b[0m\u001b[1;33m)\u001b[0m\u001b[1;33m)\u001b[0m\u001b[1;33m.\u001b[0m\u001b[0mto\u001b[0m\u001b[1;33m(\u001b[0m\u001b[0mdevice\u001b[0m\u001b[1;33m)\u001b[0m\u001b[1;33m\u001b[0m\u001b[1;33m\u001b[0m\u001b[0m\n\u001b[0m\u001b[0;32m      4\u001b[0m \u001b[0mnext_covariate_tensor\u001b[0m \u001b[1;33m=\u001b[0m \u001b[0mtorch\u001b[0m\u001b[1;33m.\u001b[0m\u001b[0mtensor\u001b[0m\u001b[1;33m(\u001b[0m\u001b[0mtest_covariate_df\u001b[0m\u001b[1;33m.\u001b[0m\u001b[0mto_numpy\u001b[0m\u001b[1;33m(\u001b[0m\u001b[1;33m)\u001b[0m\u001b[1;33m.\u001b[0m\u001b[0mreshape\u001b[0m\u001b[1;33m(\u001b[0m\u001b[1;33m-\u001b[0m\u001b[1;36m1\u001b[0m\u001b[1;33m,\u001b[0m \u001b[0mhorizon_size\u001b[0m \u001b[1;33m*\u001b[0m \u001b[0mcovariate_size\u001b[0m\u001b[1;33m)\u001b[0m\u001b[1;33m)\u001b[0m\u001b[1;33m.\u001b[0m\u001b[0munsqueeze\u001b[0m\u001b[1;33m(\u001b[0m\u001b[0mdim\u001b[0m\u001b[1;33m=\u001b[0m\u001b[1;36m0\u001b[0m\u001b[1;33m)\u001b[0m\u001b[1;33m.\u001b[0m\u001b[0mto\u001b[0m\u001b[1;33m(\u001b[0m\u001b[0mdevice\u001b[0m\u001b[1;33m)\u001b[0m\u001b[1;31m#[1,1,horizon_size * covariate_size]\u001b[0m\u001b[1;33m\u001b[0m\u001b[1;33m\u001b[0m\u001b[0m\n\u001b[0;32m      5\u001b[0m \u001b[0mresults\u001b[0m \u001b[1;33m=\u001b[0m \u001b[1;33m[\u001b[0m\u001b[1;33m]\u001b[0m\u001b[1;33m\u001b[0m\u001b[1;33m\u001b[0m\u001b[0m\n",
      "\u001b[1;31mRuntimeError\u001b[0m: CUDA error: out of memory\nCUDA kernel errors might be asynchronously reported at some other API call, so the stacktrace below might be incorrect.\nFor debugging consider passing CUDA_LAUNCH_BLOCKING=1.\nCompile with `TORCH_USE_CUDA_DSA` to enable device-side assertions.\n"
     ]
    }
   ],
   "source": [
    "device=torch.device(\"cuda\")\n",
    "horizon_size = 30\n",
    "full_covariate_tensor = torch.tensor(train_covariate_df.to_numpy()).to(device)\n",
    "next_covariate_tensor = torch.tensor(test_covariate_df.to_numpy().reshape(-1, horizon_size * covariate_size)).unsqueeze(dim=0).to(device)#[1,1,horizon_size * covariate_size]\n",
    "results = []\n",
    "print(full_covariate_tensor.shape, next_covariate_tensor.shape)\n",
    "# model.eval()\n",
    "# with torch.no_grad():\n",
    "for colname in tqdm(train_target_df.columns):\n",
    "    input_target_tensor = torch.tensor(train_target_df[[colname]].to_numpy()).to(device)\n",
    "    input_target_covariate_tensor = torch.unsqueeze(torch.cat([input_target_tensor, full_covariate_tensor], dim=1), dim= 0).to(device) #[1, seq_len, 1+covariate_size]\n",
    "    input_target_covariate_tensor = input_target_covariate_tensor.permute(1,0,2).to(device) #[seq_len, 1, 1+covariate_size]\n",
    "    print(input_target_covariate_tensor.shape)\n",
    "    print(next_covariate_tensor.shape)\n",
    "#         model_output = model(input_target_covariate_tensor, next_covariate_tensor)\n",
    "\n",
    "#         output_array = model_output.squeeze(0).cpu()\n",
    "#         results.append(output_array)"
   ]
  },
  {
   "cell_type": "code",
   "execution_count": 10,
   "metadata": {
    "ExecuteTime": {
     "end_time": "2024-02-18T08:46:30.534129Z",
     "start_time": "2024-02-18T08:34:22.986121Z"
    },
    "execution": {
     "iopub.execute_input": "2023-01-10T06:54:48.707915Z",
     "iopub.status.busy": "2023-01-10T06:54:48.707318Z",
     "iopub.status.idle": "2023-01-10T07:24:45.061124Z",
     "shell.execute_reply": "2023-01-10T07:24:45.059971Z",
     "shell.execute_reply.started": "2023-01-10T06:54:48.707874Z"
    }
   },
   "outputs": [
    {
     "name": "stderr",
     "output_type": "stream",
     "text": [
      "\r",
      "  0%|                                                                                           | 0/24 [00:00<?, ?it/s]"
     ]
    },
    {
     "name": "stdout",
     "output_type": "stream",
     "text": [
      "torch.Size([2648, 16, 4]) torch.Size([2648, 16, 90])\n",
      "torch.Size([2648, 16, 30, 4])\n"
     ]
    },
    {
     "name": "stderr",
     "output_type": "stream",
     "text": [
      "Loss:12.562996042517938:   4%|██▎                                                    | 1/24 [02:59<1:08:54, 179.77s/it]"
     ]
    },
    {
     "name": "stdout",
     "output_type": "stream",
     "text": [
      "torch.Size([2648, 16, 4]) torch.Size([2648, 16, 90])\n",
      "torch.Size([2648, 16, 30, 4])\n"
     ]
    },
    {
     "name": "stderr",
     "output_type": "stream",
     "text": [
      "Loss:13.565271254480793:   8%|████▌                                                  | 2/24 [06:49<1:16:42, 209.21s/it]"
     ]
    },
    {
     "name": "stdout",
     "output_type": "stream",
     "text": [
      "torch.Size([2648, 16, 4]) torch.Size([2648, 16, 90])\n",
      "torch.Size([2648, 16, 30, 4])\n"
     ]
    },
    {
     "name": "stderr",
     "output_type": "stream",
     "text": [
      "Loss:13.208515757016654:  12%|██████▉                                                | 3/24 [10:47<1:17:51, 222.45s/it]"
     ]
    },
    {
     "name": "stdout",
     "output_type": "stream",
     "text": [
      "torch.Size([2648, 16, 4]) torch.Size([2648, 16, 90])\n",
      "torch.Size([2648, 16, 30, 4])\n"
     ]
    },
    {
     "name": "stderr",
     "output_type": "stream",
     "text": [
      "Loss:8.788618543396083:  12%|███████                                                 | 3/24 [12:04<1:24:28, 241.36s/it]\n"
     ]
    },
    {
     "ename": "RuntimeError",
     "evalue": "cuDNN error: CUDNN_STATUS_INTERNAL_ERROR",
     "output_type": "error",
     "traceback": [
      "\u001b[1;31m---------------------------------------------------------------------------\u001b[0m",
      "\u001b[1;31mRuntimeError\u001b[0m                              Traceback (most recent call last)",
      "\u001b[1;32m~\\AppData\\Local\\Temp/ipykernel_30768/1986967534.py\u001b[0m in \u001b[0;36m<module>\u001b[1;34m\u001b[0m\n\u001b[0;32m      1\u001b[0m \u001b[0mmodel\u001b[0m \u001b[1;33m=\u001b[0m \u001b[0mMQRNN\u001b[0m\u001b[1;33m(\u001b[0m\u001b[1;33m)\u001b[0m\u001b[1;33m\u001b[0m\u001b[1;33m\u001b[0m\u001b[0m\n\u001b[0;32m      2\u001b[0m \u001b[0mtrain_dataset\u001b[0m \u001b[1;33m=\u001b[0m \u001b[0mMQRNN_dataset\u001b[0m\u001b[1;33m(\u001b[0m\u001b[0mtrain_target_df\u001b[0m\u001b[1;33m,\u001b[0m \u001b[0mtrain_covariate_df\u001b[0m\u001b[1;33m)\u001b[0m\u001b[1;33m\u001b[0m\u001b[1;33m\u001b[0m\u001b[0m\n\u001b[1;32m----> 3\u001b[1;33m \u001b[0mtrain\u001b[0m\u001b[1;33m(\u001b[0m\u001b[0mmodel\u001b[0m\u001b[1;33m,\u001b[0m \u001b[0mtrain_dataset\u001b[0m\u001b[1;33m,\u001b[0m \u001b[0mbatch_size\u001b[0m\u001b[1;33m=\u001b[0m\u001b[1;36m16\u001b[0m\u001b[1;33m,\u001b[0m \u001b[0mnum_epochs\u001b[0m\u001b[1;33m=\u001b[0m\u001b[1;36m1\u001b[0m\u001b[1;33m,\u001b[0m \u001b[0mlr\u001b[0m\u001b[1;33m=\u001b[0m\u001b[1;36m0.0001\u001b[0m\u001b[1;33m)\u001b[0m\u001b[1;33m\u001b[0m\u001b[1;33m\u001b[0m\u001b[0m\n\u001b[0m\u001b[0;32m      4\u001b[0m \u001b[1;31m# test_rmse = evaluate(model)\u001b[0m\u001b[1;33m\u001b[0m\u001b[1;33m\u001b[0m\u001b[0m\n\u001b[0;32m      5\u001b[0m \u001b[1;31m# print(test_rmse)\u001b[0m\u001b[1;33m\u001b[0m\u001b[1;33m\u001b[0m\u001b[0m\n",
      "\u001b[1;32m~\\AppData\\Local\\Temp/ipykernel_30768/3985749148.py\u001b[0m in \u001b[0;36mtrain\u001b[1;34m(model, train_dataset, desired_quantiles, batch_size, num_epochs, lr, device)\u001b[0m\n\u001b[0;32m     35\u001b[0m \u001b[1;33m\u001b[0m\u001b[0m\n\u001b[0;32m     36\u001b[0m             \u001b[0mpbar\u001b[0m\u001b[1;33m.\u001b[0m\u001b[0mset_description\u001b[0m\u001b[1;33m(\u001b[0m\u001b[1;34mf\"Loss:{total_loss.item()}\"\u001b[0m\u001b[1;33m)\u001b[0m\u001b[1;33m\u001b[0m\u001b[1;33m\u001b[0m\u001b[0m\n\u001b[1;32m---> 37\u001b[1;33m             \u001b[0mtotal_loss\u001b[0m\u001b[1;33m.\u001b[0m\u001b[0mbackward\u001b[0m\u001b[1;33m(\u001b[0m\u001b[1;33m)\u001b[0m\u001b[1;33m\u001b[0m\u001b[1;33m\u001b[0m\u001b[0m\n\u001b[0m\u001b[0;32m     38\u001b[0m             \u001b[0moptimizer\u001b[0m\u001b[1;33m.\u001b[0m\u001b[0mstep\u001b[0m\u001b[1;33m(\u001b[0m\u001b[1;33m)\u001b[0m\u001b[1;33m\u001b[0m\u001b[1;33m\u001b[0m\u001b[0m\n\u001b[0;32m     39\u001b[0m             \u001b[0mepoch_loss_sum\u001b[0m \u001b[1;33m+=\u001b[0m \u001b[0mtotal_loss\u001b[0m\u001b[1;33m.\u001b[0m\u001b[0mitem\u001b[0m\u001b[1;33m(\u001b[0m\u001b[1;33m)\u001b[0m\u001b[1;33m\u001b[0m\u001b[1;33m\u001b[0m\u001b[0m\n",
      "\u001b[1;32mC:\\ProgramData\\Anaconda3\\lib\\site-packages\\torch\\_tensor.py\u001b[0m in \u001b[0;36mbackward\u001b[1;34m(self, gradient, retain_graph, create_graph, inputs)\u001b[0m\n\u001b[0;32m    485\u001b[0m                 \u001b[0minputs\u001b[0m\u001b[1;33m=\u001b[0m\u001b[0minputs\u001b[0m\u001b[1;33m,\u001b[0m\u001b[1;33m\u001b[0m\u001b[1;33m\u001b[0m\u001b[0m\n\u001b[0;32m    486\u001b[0m             )\n\u001b[1;32m--> 487\u001b[1;33m         torch.autograd.backward(\n\u001b[0m\u001b[0;32m    488\u001b[0m             \u001b[0mself\u001b[0m\u001b[1;33m,\u001b[0m \u001b[0mgradient\u001b[0m\u001b[1;33m,\u001b[0m \u001b[0mretain_graph\u001b[0m\u001b[1;33m,\u001b[0m \u001b[0mcreate_graph\u001b[0m\u001b[1;33m,\u001b[0m \u001b[0minputs\u001b[0m\u001b[1;33m=\u001b[0m\u001b[0minputs\u001b[0m\u001b[1;33m\u001b[0m\u001b[1;33m\u001b[0m\u001b[0m\n\u001b[0;32m    489\u001b[0m         )\n",
      "\u001b[1;32mC:\\ProgramData\\Anaconda3\\lib\\site-packages\\torch\\autograd\\__init__.py\u001b[0m in \u001b[0;36mbackward\u001b[1;34m(tensors, grad_tensors, retain_graph, create_graph, grad_variables, inputs)\u001b[0m\n\u001b[0;32m    198\u001b[0m     \u001b[1;31m# some Python versions print out the first line of a multi-line function\u001b[0m\u001b[1;33m\u001b[0m\u001b[1;33m\u001b[0m\u001b[0m\n\u001b[0;32m    199\u001b[0m     \u001b[1;31m# calls in the traceback and some print out the last line\u001b[0m\u001b[1;33m\u001b[0m\u001b[1;33m\u001b[0m\u001b[0m\n\u001b[1;32m--> 200\u001b[1;33m     Variable._execution_engine.run_backward(  # Calls into the C++ engine to run the backward pass\n\u001b[0m\u001b[0;32m    201\u001b[0m         \u001b[0mtensors\u001b[0m\u001b[1;33m,\u001b[0m \u001b[0mgrad_tensors_\u001b[0m\u001b[1;33m,\u001b[0m \u001b[0mretain_graph\u001b[0m\u001b[1;33m,\u001b[0m \u001b[0mcreate_graph\u001b[0m\u001b[1;33m,\u001b[0m \u001b[0minputs\u001b[0m\u001b[1;33m,\u001b[0m\u001b[1;33m\u001b[0m\u001b[1;33m\u001b[0m\u001b[0m\n\u001b[0;32m    202\u001b[0m         allow_unreachable=True, accumulate_grad=True)  # Calls into the C++ engine to run the backward pass\n",
      "\u001b[1;31mRuntimeError\u001b[0m: cuDNN error: CUDNN_STATUS_INTERNAL_ERROR"
     ]
    }
   ],
   "source": [
    "model = MQRNN()\n",
    "train_dataset = MQRNN_dataset(train_target_df, train_covariate_df)\n",
    "train(model, train_dataset, batch_size=16, num_epochs=1, lr=0.0001)\n",
    "# test_rmse = evaluate(model)\n",
    "# print(test_rmse)"
   ]
  },
  {
   "cell_type": "code",
   "execution_count": 29,
   "metadata": {
    "ExecuteTime": {
     "end_time": "2024-02-20T07:08:19.373640Z",
     "start_time": "2024-02-20T07:08:18.922729Z"
    }
   },
   "outputs": [
    {
     "data": {
      "text/plain": [
       "[<matplotlib.lines.Line2D at 0x29ab8270fd0>]"
      ]
     },
     "execution_count": 29,
     "metadata": {},
     "output_type": "execute_result"
    },
    {
     "data": {
      "image/png": "[encoded data removed]",
      "text/plain": [
       "<Figure size 432x288 with 1 Axes>"
      ]
     },
     "metadata": {
      "needs_background": "light"
     },
     "output_type": "display_data"
    }
   ],
   "source": [
    "from matplotlib import pyplot as plt\n",
    "plt.plot(scaler.inverse_transform(target_df)[:, 0:100].sum(axis=1))"
   ]
  },
  {
   "cell_type": "code",
   "execution_count": 32,
   "metadata": {
    "ExecuteTime": {
     "end_time": "2024-02-20T07:43:45.434849Z",
     "start_time": "2024-02-20T07:43:45.416841Z"
    }
   },
   "outputs": [],
   "source": [
    "?torch.cat"
   ]
  },
  {
   "cell_type": "code",
   "execution_count": 21,
   "metadata": {
    "ExecuteTime": {
     "end_time": "2024-02-06T07:37:15.056788Z",
     "start_time": "2024-02-06T07:37:15.045854Z"
    }
   },
   "outputs": [
    {
     "data": {
      "text/plain": [
       "(2678, 3)"
      ]
     },
     "execution_count": 21,
     "metadata": {},
     "output_type": "execute_result"
    }
   ],
   "source": [
    "train_covariate_df.shape"
   ]
  },
  {
   "cell_type": "code",
   "execution_count": null,
   "metadata": {},
   "outputs": [],
   "source": []
  }
 ],
 "metadata": {
  "kernelspec": {
   "display_name": "Python 3 (ipykernel)",
   "language": "python",
   "name": "python3"
  },
  "language_info": {
   "codemirror_mode": {
    "name": "ipython",
    "version": 3
   },
   "file_extension": ".py",
   "mimetype": "text/x-python",
   "name": "python",
   "nbconvert_exporter": "python",
   "pygments_lexer": "ipython3",
   "version": "3.9.7"
  },
  "toc": {
   "base_numbering": 1,
   "nav_menu": {},
   "number_sections": true,
   "sideBar": true,
   "skip_h1_title": false,
   "title_cell": "Table of Contents",
   "title_sidebar": "Contents",
   "toc_cell": false,
   "toc_position": {},
   "toc_section_display": true,
   "toc_window_display": false
  },
  "varInspector": {
   "cols": {
    "lenName": 16,
    "lenType": 16,
    "lenVar": 40
   },
   "kernels_config": {
    "python": {
     "delete_cmd_postfix": "",
     "delete_cmd_prefix": "del ",
     "library": "var_list.py",
     "varRefreshCmd": "print(var_dic_list())"
    },
    "r": {
     "delete_cmd_postfix": ") ",
     "delete_cmd_prefix": "rm(",
     "library": "var_list.r",
     "varRefreshCmd": "cat(var_dic_list()) "
    }
   },
   "types_to_exclude": [
    "module",
    "function",
    "builtin_function_or_method",
    "instance",
    "_Feature"
   ],
   "window_display": false
  }
 },
 "nbformat": 4,
 "nbformat_minor": 4
}
